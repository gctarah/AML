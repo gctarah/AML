{
 "cells": [
  {
   "cell_type": "markdown",
   "id": "ccdb7dba",
   "metadata": {},
   "source": [
    "# Diabetes Prediction using Machine Learning\n",
    "\n"
   ]
  },
  {
   "cell_type": "code",
   "execution_count": null,
   "id": "d8f7fde0",
   "metadata": {},
   "outputs": [],
   "source": [
    "# Installation of required libraries\n",
    "import numpy as np\n",
    "import pandas as pd \n",
    "import statsmodels.api as sm\n",
    "import seaborn as sns\n",
    "import matplotlib.pyplot as plt\n",
    "from sklearn.preprocessing import scale, StandardScaler\n",
    "from sklearn.model_selection import train_test_split, GridSearchCV, cross_val_score, KFold\n",
    "from sklearn.metrics import confusion_matrix, accuracy_score, mean_squared_error, r2_score, roc_auc_score, roc_curve, classification_report\n",
    "from sklearn.linear_model import LogisticRegression\n",
    "from sklearn.neighbors import KNeighborsClassifier\n",
    "from sklearn.svm import SVC\n",
    "from sklearn.neural_network import MLPClassifier\n",
    "from sklearn.tree import DecisionTreeClassifier\n",
    "from sklearn.ensemble import RandomForestClassifier, GradientBoostingClassifier\n",
    "from lightgbm import LGBMClassifier\n",
    "import warnings\n",
    "warnings.simplefilter(action = \"ignore\") \n"
   ]
  },
  {
   "cell_type": "code",
   "execution_count": null,
   "id": "8d754633",
   "metadata": {},
   "outputs": [],
   "source": [
    "# Reading the dataset\n",
    "df = pd.read_csv(\"../input/pima-indians-diabetes-database/diabetes.csv\")\n",
    "df.head()"
   ]
  },
  {
   "cell_type": "code",
   "execution_count": null,
   "id": "687efdf3",
   "metadata": {},
   "outputs": [],
   "source": [
    "# Shape and info\n",
    "print(df.shape)\n",
    "df.info()\n",
    "df.describe().T\n",
    "df['Outcome'].value_counts()\n"
   ]
  },
  {
   "cell_type": "code",
   "execution_count": null,
   "id": "e84096a1",
   "metadata": {},
   "outputs": [],
   "source": [
    "# Histogram plots\n",
    "df['Age'].hist(edgecolor=\"black\")\n",
    "plt.show()\n",
    "\n",
    "fig, ax = plt.subplots(4,2, figsize=(16,16))\n",
    "sns.histplot(df.Age, bins=20, ax=ax[0,0]) \n",
    "sns.histplot(df.Pregnancies, bins=20, ax=ax[0,1]) \n",
    "sns.histplot(df.Glucose, bins=20, ax=ax[1,0]) \n",
    "sns.histplot(df.BloodPressure, bins=20, ax=ax[1,1]) \n",
    "sns.histplot(df.SkinThickness, bins=20, ax=ax[2,0])\n",
    "sns.histplot(df.Insulin, bins=20, ax=ax[2,1])\n",
    "sns.histplot(df.DiabetesPedigreeFunction, bins=20, ax=ax[3,0]) \n",
    "sns.histplot(df.BMI, bins=20, ax=ax[3,1])\n",
    "plt.show()\n"
   ]
  },
  {
   "cell_type": "code",
   "execution_count": null,
   "id": "9d4de541",
   "metadata": {},
   "outputs": [],
   "source": [
    "# Correlation heatmap\n",
    "f, ax = plt.subplots(figsize=[20,15])\n",
    "sns.heatmap(df.corr(), annot=True, fmt=\".2f\", cmap=\"magma\", ax=ax)\n",
    "plt.show()"
   ]
  },
  {
   "cell_type": "code",
   "execution_count": null,
   "id": "569d738f",
   "metadata": {},
   "outputs": [],
   "source": [
    "# Replace 0 with NaN in some columns\n",
    "df[['Glucose','BloodPressure','SkinThickness','Insulin','BMI']] = df[['Glucose','BloodPressure','SkinThickness','Insulin','BMI']].replace(0,np.NaN)\n",
    "df.isnull().sum()"
   ]
  },
  {
   "cell_type": "code",
   "execution_count": null,
   "id": "bb18dc9b",
   "metadata": {},
   "outputs": [],
   "source": [
    "# Fill missing values with median by class\n",
    "def median_target(var):   \n",
    "    temp = df[df[var].notnull()]\n",
    "    temp = temp[[var, 'Outcome']].groupby(['Outcome'])[[var]].median().reset_index()\n",
    "    return temp\n",
    "\n",
    "columns = df.columns.drop(\"Outcome\")\n",
    "for i in columns:\n",
    "    df.loc[(df['Outcome'] == 0) & (df[i].isnull()), i] = median_target(i)[i][0]\n",
    "    df.loc[(df['Outcome'] == 1) & (df[i].isnull()), i] = median_target(i)[i][1]\n",
    "\n",
    "df.isnull().sum()\n"
   ]
  },
  {
   "cell_type": "code",
   "execution_count": null,
   "id": "eaf31784",
   "metadata": {},
   "outputs": [],
   "source": [
    "# Outlier detection using Local Outlier Factor\n",
    "from sklearn.neighbors import LocalOutlierFactor\n",
    "lof = LocalOutlierFactor(n_neighbors=10)\n",
    "lof.fit_predict(df)\n",
    "df_scores = lof.negative_outlier_factor_\n",
    "threshold = np.sort(df_scores)[7]\n",
    "outlier = df_scores > threshold\n",
    "df = df[outlier]\n",
    "df.shape\n"
   ]
  },
  {
   "cell_type": "code",
   "execution_count": null,
   "id": "84c74e2a",
   "metadata": {},
   "outputs": [],
   "source": [
    "# Feature engineering\n",
    "df['NewBMI'] = pd.cut(df['BMI'], bins=[0,18.5,24.9,29.9,34.9,39.9,100], labels=[\"Underweight\",\"Normal\",\"Overweight\",\"Obesity1\",\"Obesity2\",\"Obesity3\"])\n",
    "\n",
    "def set_insulin(row):\n",
    "    if 16 <= row[\"Insulin\"] <= 166:\n",
    "        return \"Normal\"\n",
    "    else:\n",
    "        return \"Abnormal\"\n",
    "df['NewInsulinScore'] = df.apply(set_insulin, axis=1)\n",
    "\n",
    "df['NewGlucose'] = pd.cut(df['Glucose'], bins=[0,70,99,126,200], labels=[\"Low\",\"Normal\",\"Overweight\",\"High\"])\n",
    "df.head()\n"
   ]
  },
  {
   "cell_type": "code",
   "execution_count": null,
   "id": "71342595",
   "metadata": {},
   "outputs": [],
   "source": [
    "# One hot encoding categorical features\n",
    "df = pd.get_dummies(df, columns=[\"NewBMI\",\"NewInsulinScore\",\"NewGlucose\"], drop_first=True)\n",
    "y = df[\"Outcome\"]\n",
    "X = df.drop(\"Outcome\", axis=1)\n",
    "\n",
    "from sklearn.preprocessing import RobustScaler\n",
    "transformer = RobustScaler().fit(X)\n",
    "X = pd.DataFrame(transformer.transform(X), columns=X.columns)\n"
   ]
  },
  {
   "cell_type": "code",
   "execution_count": null,
   "id": "394c4691",
   "metadata": {},
   "outputs": [],
   "source": [
    "# Base models comparison\n",
    "models = []\n",
    "models.append(('LR', LogisticRegression(random_state=12345)))\n",
    "models.append(('KNN', KNeighborsClassifier()))\n",
    "models.append(('CART', DecisionTreeClassifier(random_state=12345)))\n",
    "models.append(('RF', RandomForestClassifier(random_state=12345)))\n",
    "models.append(('SVM', SVC(gamma='auto', random_state=12345)))\n",
    "models.append(('XGB', GradientBoostingClassifier(random_state=12345)))\n",
    "models.append((\"LightGBM\", LGBMClassifier(random_state=12345)))\n",
    "\n",
    "results = []\n",
    "names = []\n",
    "for name, model in models:\n",
    "    cv_results = cross_val_score(model, X, y, cv=10, scoring=\"accuracy\")\n",
    "    results.append(cv_results)\n",
    "    names.append(name)\n",
    "    print(f\"{name}: {cv_results.mean():.4f} ({cv_results.std():.4f})\")\n",
    "\n",
    "plt.figure(figsize=(15,10))\n",
    "plt.boxplot(results)\n",
    "plt.xticks(range(1,len(names)+1), names)\n",
    "plt.title(\"Algorithm Comparison\")\n",
    "plt.show()\n"
   ]
  },
  {
   "cell_type": "code",
   "execution_count": null,
   "id": "562a685e",
   "metadata": {},
   "outputs": [],
   "source": [
    "from sklearn.model_selection import train_test_split, cross_val_score\n",
    "from sklearn.preprocessing import StandardScaler\n",
    "from sklearn.ensemble import RandomForestClassifier\n",
    "from sklearn.gaussian_process import GaussianProcessClassifier\n",
    "from sklearn.gaussian_process.kernels import RBF, Matern\n",
    "\n",
    "X = df.drop('Outcome', axis=1)\n",
    "y = df['Outcome']\n",
    "\n",
    "scaler = StandardScaler()\n",
    "X_scaled = scaler.fit_transform(X)\n",
    "\n",
    "# Baseline RF\n",
    "rf = RandomForestClassifier(random_state=42)\n",
    "rf_scores = cross_val_score(rf, X_scaled, y, cv=5, scoring='accuracy')\n",
    "print('RF Accuracy:', rf_scores.mean())\n",
    "\n",
    "# Gaussian Process Classifier with RBF kernel\n",
    "gpc = GaussianProcessClassifier(1.0*RBF(), random_state=42)\n",
    "gpc_scores = cross_val_score(gpc, X_scaled, y, cv=5, scoring='accuracy')\n",
    "print('GPC Accuracy:', gpc_scores.mean())"
   ]
  },
  {
   "cell_type": "code",
   "execution_count": null,
   "id": "632e2bb0",
   "metadata": {},
   "outputs": [],
   "source": [
    "#Task 2: Fuzzy Logic Controller\n",
    "!pip install scikit-fuzzy deap"
   ]
  },
  {
   "cell_type": "code",
   "execution_count": null,
   "id": "1aa81a8b",
   "metadata": {},
   "outputs": [],
   "source": [
    "import skfuzzy as fuzz\n",
    "import numpy as np\n",
    "import matplotlib.pyplot as plt\n",
    "\n",
    "# Define universe variables\n",
    "temp = np.arange(15, 31, 1)\n",
    "light = np.arange(0, 101, 1)\n",
    "\n",
    "# Membership functions\n",
    "temp_cold = fuzz.trimf(temp, [15, 15, 22])\n",
    "temp_warm = fuzz.trimf(temp, [20, 25, 30])\n",
    "temp_hot = fuzz.trimf(temp, [25, 30, 30])\n",
    "\n",
    "plt.plot(temp, temp_cold, label='Cold')\n",
    "plt.plot(temp, temp_warm, label='Warm')\n",
    "plt.plot(temp, temp_hot, label='Hot')\n",
    "plt.legend();"
   ]
  },
  {
   "cell_type": "code",
   "execution_count": null,
   "id": "ded6b740",
   "metadata": {},
   "outputs": [],
   "source": [
    "#Genetic Algorithm Optimization Example\n",
    "from deap import base, creator, tools, algorithms\n",
    "import random\n",
    "\n",
    "# Example GA to optimize a simple objective function\n",
    "creator.create('FitnessMin', base.Fitness, weights=(-1.0,))\n",
    "creator.create('Individual', list, fitness=creator.FitnessMin)\n",
    "\n",
    "# Example problem: minimize sum of squares of 5 variables\n",
    "def eval_func(ind):\n",
    "    return sum(x**2 for x in ind),\n",
    "\n",
    "IND_SIZE = 5\n",
    "\n",
    "toolbox = base.Toolbox()\n",
    "toolbox.register('attr_float', random.uniform, -5, 5)\n",
    "toolbox.register('individual', tools.initRepeat, creator.Individual, toolbox.attr_float, n=IND_SIZE)\n",
    "toolbox.register('population', tools.initRepeat, list, toolbox.individual)\n",
    "\n",
    "toolbox.register('mate', tools.cxBlend, alpha=0.5)\n",
    "toolbox.register('mutate', tools.mutGaussian, mu=0, sigma=1, indpb=0.2)\n",
    "toolbox.register('select', tools.selTournament, tournsize=3)\n",
    "toolbox.register('evaluate', eval_func)\n",
    "\n",
    "pop = toolbox.population(n=20)\n",
    "algorithms.eaSimple(pop, toolbox, cxpb=0.5, mutpb=0.2, ngen=10, verbose=True)"
   ]
  },
  {
   "cell_type": "code",
   "execution_count": null,
   "id": "df723e45",
   "metadata": {},
   "outputs": [],
   "source": []
  },
  {
   "cell_type": "code",
   "execution_count": null,
   "id": "faad514e",
   "metadata": {},
   "outputs": [],
   "source": []
  }
 ],
 "metadata": {
  "language_info": {
   "name": "python"
  }
 },
 "nbformat": 4,
 "nbformat_minor": 5
}
